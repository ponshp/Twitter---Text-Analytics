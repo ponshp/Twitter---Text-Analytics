{
 "cells": [
  {
   "cell_type": "code",
   "execution_count": 1,
   "metadata": {
    "collapsed": true
   },
   "outputs": [],
   "source": [
    "import pandas as pd\n",
    "import matplotlib.pyplot as plt\n",
    "import seaborn as sns\n",
    "import itertools\n",
    "import collections\n",
    "\n",
    "import tweepy as tw\n",
    "import nltk\n",
    "from nltk.corpus import stopwords\n",
    "import re\n",
    "import networkx\n",
    "\n",
    "import warnings\n",
    "warnings.filterwarnings('ignore')"
   ]
  },
  {
   "cell_type": "code",
   "execution_count": 2,
   "metadata": {
    "collapsed": true
   },
   "outputs": [],
   "source": [
    "sns.set(font_scale=1.5)\n",
    "sns.set_style('whitegrid')"
   ]
  },
  {
   "cell_type": "code",
   "execution_count": 3,
   "metadata": {
    "collapsed": true
   },
   "outputs": [],
   "source": [
    "# Define keys\n",
    "\n",
    "consumer_key = '###################'\n",
    "consumer_secret = '#################'\n",
    "access_token = '########################'\n",
    "access_token_secret = '#######################'"
   ]
  },
  {
   "cell_type": "code",
   "execution_count": 4,
   "metadata": {
    "collapsed": true
   },
   "outputs": [],
   "source": [
    "# Authenticate\n",
    "\n",
    "auth = tw.OAuthHandler(consumer_key, consumer_secret)\n",
    "auth.set_access_token(access_token, access_token_secret)\n",
    "api = tw.API(auth, wait_on_rate_limit=True)"
   ]
  },
  {
   "cell_type": "code",
   "execution_count": 5,
   "metadata": {
    "collapsed": true
   },
   "outputs": [],
   "source": [
    "# Search for tweets\n",
    "\n",
    "## New Search Criteria - Work ##Tweets\n",
    "\n",
    "new_search = '#plumbing - filter:retweets'\n",
    "\n",
    "##['#plumbing', '#plumber','#SharkBitePlumbing', ' #SharkBiteFittings',\n",
    "##'#hvac', ' #contractor', ' #skilledtrades', ' #PEXpipe', ' #newconstruction']\n",
    "\n",
    "date_since = '2019-06-01'\n",
    "\n",
    "tweets = tw.Cursor(api.search,\n",
    "                  q = new_search,\n",
    "                  lang = 'en',\n",
    "                  since = date_since).items(1000)\n",
    "\n",
    "all_tweets = [tweet.text for tweet in tweets]"
   ]
  },
  {
   "cell_type": "code",
   "execution_count": 10,
   "metadata": {},
   "outputs": [
    {
     "data": {
      "text/plain": [
       "['RT @LinkedSupplyLS: Looking For A Kit Or Two !!!!! \\n\\nClick On This Link https://t.co/FoVQLWlh0m #tweetuk\\n\\n#Engineer #Engineering #hydraulic…',\n",
       " 'RT @amyhayesYC: Another productive employer meeting this morning. Discussing #plumbing #apprenticeships with @qj_hull 👍Looking forward to w…',\n",
       " 'RT @hartlepoolfe: JOB OPPORTUNITIES \\nAs our successful academic year comes to an end we start planning for the next. Our team is growing, c…',\n",
       " 'RT @comphydraulic: Take a look at our new shop \\n\\nClick this link  to see whats in store \\n\\nhttps://t.co/PG2By62Fsc\\n\\n#CompletelyHydraulic #On…',\n",
       " 'RT @LinkedSupplyLS: #ORing Kit High Grade #RubberORing Kit In Metric Sizes.\\n\\nSee our shop &gt;  https://t.co/FoVQLWlh0m\\n\\n#Tools #DIY #Plumbing…']"
      ]
     },
     "execution_count": 10,
     "metadata": {},
     "output_type": "execute_result"
    }
   ],
   "source": [
    "all_tweets[:5]"
   ]
  },
  {
   "cell_type": "code",
   "execution_count": 8,
   "metadata": {},
   "outputs": [],
   "source": [
    "## Remove URLs\n",
    "\n",
    "def remove_url(txt):\n",
    "    \"\"\"Replace URLs found in a text string with nothing \n",
    "    (i.e. it will remove the URL from the string).\n",
    "\n",
    "    Parameters\n",
    "    ----------\n",
    "    txt : string\n",
    "        A text string that you want to parse and remove urls.\n",
    "\n",
    "    Returns\n",
    "    -------\n",
    "    The same txt string with url's removed.\n",
    "    \"\"\"\n",
    "        \n",
    "    return \" \".join(re.sub(\"([^0-9A-Za-z \\t])|(\\w+:\\/\\/\\S+)\",\"\",txt).split())"
   ]
  },
  {
   "cell_type": "code",
   "execution_count": 13,
   "metadata": {},
   "outputs": [
    {
     "data": {
      "text/plain": [
       "['RT LinkedSupplyLS Looking For A Kit Or Two Click On This Link tweetukEngineer Engineering hydraulic',\n",
       " 'RT amyhayesYC Another productive employer meeting this morning Discussing plumbing apprenticeships with qjhull Looking forward to w',\n",
       " 'RT hartlepoolfe JOB OPPORTUNITIES As our successful academic year comes to an end we start planning for the next Our team is growing c',\n",
       " 'RT comphydraulic Take a look at our new shop Click this link to see whats in store CompletelyHydraulic On',\n",
       " 'RT LinkedSupplyLS ORing Kit High Grade RubberORing Kit In Metric SizesSee our shop gt Tools DIY Plumbing']"
      ]
     },
     "execution_count": 13,
     "metadata": {},
     "output_type": "execute_result"
    }
   ],
   "source": [
    "all_tweets_no_urls = [remove_url(tweet) for tweet in all_tweets]\n",
    "all_tweets_no_urls[:5]"
   ]
  },
  {
   "cell_type": "code",
   "execution_count": 14,
   "metadata": {},
   "outputs": [
    {
     "data": {
      "text/plain": [
       "{'Cat', 'Dog', 'cat', 'dog'}"
      ]
     },
     "execution_count": 14,
     "metadata": {},
     "output_type": "execute_result"
    }
   ],
   "source": [
    "## Text clean up - address case issue\n",
    "\n",
    "# Note how capitalization impacts unique returned values\n",
    "\n",
    "ex_list = ['Dog', 'dog', 'cat', 'Cat']\n",
    "\n",
    "# Get unique elements in the list\n",
    "\n",
    "set(ex_list)"
   ]
  },
  {
   "cell_type": "code",
   "execution_count": 15,
   "metadata": {},
   "outputs": [
    {
     "data": {
      "text/plain": [
       "['dog', 'dog', 'cat', 'cat', ',']"
      ]
     },
     "execution_count": 15,
     "metadata": {},
     "output_type": "execute_result"
    }
   ],
   "source": [
    "# Note how capitlization impacts unique returned values\n",
    "\n",
    "words_list = ['Dog','dog','Cat','cat',',']\n",
    "\n",
    "# Make elements in the list lower case\n",
    "lower_case = [word.lower() for word in words_list]\n",
    "\n",
    "lower_case"
   ]
  },
  {
   "cell_type": "code",
   "execution_count": 16,
   "metadata": {},
   "outputs": [
    {
     "data": {
      "text/plain": [
       "{',', 'cat', 'dog'}"
      ]
     },
     "execution_count": 16,
     "metadata": {},
     "output_type": "execute_result"
    }
   ],
   "source": [
    "set(lower_case)"
   ]
  },
  {
   "cell_type": "code",
   "execution_count": 17,
   "metadata": {},
   "outputs": [
    {
     "data": {
      "text/plain": [
       "['RT',\n",
       " 'LinkedSupplyLS',\n",
       " 'Looking',\n",
       " 'For',\n",
       " 'A',\n",
       " 'Kit',\n",
       " 'Or',\n",
       " 'Two',\n",
       " 'Click',\n",
       " 'On',\n",
       " 'This',\n",
       " 'Link',\n",
       " 'tweetukEngineer',\n",
       " 'Engineering',\n",
       " 'hydraulic']"
      ]
     },
     "execution_count": 17,
     "metadata": {},
     "output_type": "execute_result"
    }
   ],
   "source": [
    "# Create list of lower case words from tweets\n",
    "\n",
    "all_tweets_no_urls[0].split()"
   ]
  },
  {
   "cell_type": "code",
   "execution_count": 19,
   "metadata": {},
   "outputs": [
    {
     "data": {
      "text/plain": [
       "['rt',\n",
       " 'linkedsupplyls',\n",
       " 'looking',\n",
       " 'for',\n",
       " 'a',\n",
       " 'kit',\n",
       " 'or',\n",
       " 'two',\n",
       " 'click',\n",
       " 'on',\n",
       " 'this',\n",
       " 'link',\n",
       " 'tweetukengineer',\n",
       " 'engineering',\n",
       " 'hydraulic']"
      ]
     },
     "execution_count": 19,
     "metadata": {},
     "output_type": "execute_result"
    }
   ],
   "source": [
    "# convert to lower case and split at the same time\n",
    "all_tweets_no_urls[0].lower().split()"
   ]
  },
  {
   "cell_type": "code",
   "execution_count": 21,
   "metadata": {},
   "outputs": [
    {
     "data": {
      "text/plain": [
       "[['rt',\n",
       "  'linkedsupplyls',\n",
       "  'looking',\n",
       "  'for',\n",
       "  'a',\n",
       "  'kit',\n",
       "  'or',\n",
       "  'two',\n",
       "  'click',\n",
       "  'on',\n",
       "  'this',\n",
       "  'link',\n",
       "  'tweetukengineer',\n",
       "  'engineering',\n",
       "  'hydraulic'],\n",
       " ['rt',\n",
       "  'amyhayesyc',\n",
       "  'another',\n",
       "  'productive',\n",
       "  'employer',\n",
       "  'meeting',\n",
       "  'this',\n",
       "  'morning',\n",
       "  'discussing',\n",
       "  'plumbing',\n",
       "  'apprenticeships',\n",
       "  'with',\n",
       "  'qjhull',\n",
       "  'looking',\n",
       "  'forward',\n",
       "  'to',\n",
       "  'w']]"
      ]
     },
     "execution_count": 21,
     "metadata": {},
     "output_type": "execute_result"
    }
   ],
   "source": [
    "## Create a list of lists containing lowercase words for each tweet\n",
    "words_in_tweet = [tweet.lower().split() for tweet in all_tweets_no_urls]\n",
    "words_in_tweet[:2]"
   ]
  },
  {
   "cell_type": "code",
   "execution_count": 22,
   "metadata": {
    "collapsed": true
   },
   "outputs": [],
   "source": [
    "## Calculate and plot work frequency\n",
    "\n",
    "# List of all words across tweets\n",
    "all_words_no_urls = list(itertools.chain(*words_in_tweet))\n",
    "\n",
    "# Create counter\n",
    "counts_no_urls = collections.Counter(all_words_no_urls)"
   ]
  },
  {
   "cell_type": "code",
   "execution_count": 24,
   "metadata": {},
   "outputs": [
    {
     "data": {
      "text/plain": [
       "[('rt', 669),\n",
       " ('plumbing', 326),\n",
       " ('the', 323),\n",
       " ('in', 250),\n",
       " ('to', 228),\n",
       " ('a', 217),\n",
       " ('and', 196),\n",
       " ('our', 194),\n",
       " ('of', 176),\n",
       " ('for', 152)]"
      ]
     },
     "execution_count": 24,
     "metadata": {},
     "output_type": "execute_result"
    }
   ],
   "source": [
    "counts_no_urls.most_common(10)"
   ]
  },
  {
   "cell_type": "code",
   "execution_count": 29,
   "metadata": {
    "collapsed": true
   },
   "outputs": [],
   "source": [
    "clean_tweets_no_urls = pd.DataFrame(counts_no_urls.most_common(30), columns=['words','count'])"
   ]
  },
  {
   "cell_type": "code",
   "execution_count": 30,
   "metadata": {},
   "outputs": [
    {
     "data": {
      "text/html": [
       "<div>\n",
       "<style>\n",
       "    .dataframe thead tr:only-child th {\n",
       "        text-align: right;\n",
       "    }\n",
       "\n",
       "    .dataframe thead th {\n",
       "        text-align: left;\n",
       "    }\n",
       "\n",
       "    .dataframe tbody tr th {\n",
       "        vertical-align: top;\n",
       "    }\n",
       "</style>\n",
       "<table border=\"1\" class=\"dataframe\">\n",
       "  <thead>\n",
       "    <tr style=\"text-align: right;\">\n",
       "      <th></th>\n",
       "      <th>words</th>\n",
       "      <th>count</th>\n",
       "    </tr>\n",
       "  </thead>\n",
       "  <tbody>\n",
       "    <tr>\n",
       "      <th>0</th>\n",
       "      <td>rt</td>\n",
       "      <td>669</td>\n",
       "    </tr>\n",
       "    <tr>\n",
       "      <th>1</th>\n",
       "      <td>plumbing</td>\n",
       "      <td>326</td>\n",
       "    </tr>\n",
       "    <tr>\n",
       "      <th>2</th>\n",
       "      <td>the</td>\n",
       "      <td>323</td>\n",
       "    </tr>\n",
       "    <tr>\n",
       "      <th>3</th>\n",
       "      <td>in</td>\n",
       "      <td>250</td>\n",
       "    </tr>\n",
       "    <tr>\n",
       "      <th>4</th>\n",
       "      <td>to</td>\n",
       "      <td>228</td>\n",
       "    </tr>\n",
       "  </tbody>\n",
       "</table>\n",
       "</div>"
      ],
      "text/plain": [
       "      words  count\n",
       "0        rt    669\n",
       "1  plumbing    326\n",
       "2       the    323\n",
       "3        in    250\n",
       "4        to    228"
      ]
     },
     "execution_count": 30,
     "metadata": {},
     "output_type": "execute_result"
    }
   ],
   "source": [
    "clean_tweets_no_urls.head()"
   ]
  },
  {
   "cell_type": "code",
   "execution_count": 31,
   "metadata": {},
   "outputs": [
    {
     "data": {
      "image/png": "[encoded data removed]",
      "text/plain": [
       "<matplotlib.figure.Figure at 0x1ad31a77e10>"
      ]
     },
     "metadata": {},
     "output_type": "display_data"
    }
   ],
   "source": [
    "# horizontal bar graph\n",
    "fig, ax = plt.subplots(figsize=(8, 8))\n",
    "\n",
    "# Plot horizontal bar graph\n",
    "clean_tweets_no_urls.sort_values(by='count').plot.barh(x='words',\n",
    "                      y='count',\n",
    "                      ax=ax,\n",
    "                      color=\"purple\")\n",
    "\n",
    "ax.set_title(\"Common Words Found in Tweets (Including All Words)\")\n",
    "\n",
    "plt.show()"
   ]
  },
  {
   "cell_type": "code",
   "execution_count": 32,
   "metadata": {},
   "outputs": [
    {
     "name": "stdout",
     "output_type": "stream",
     "text": [
      "[nltk_data] Downloading package stopwords to\n",
      "[nltk_data]     C:\\Users\\ponshp\\AppData\\Roaming\\nltk_data...\n",
      "[nltk_data]   Unzipping corpora\\stopwords.zip.\n"
     ]
    },
    {
     "data": {
      "text/plain": [
       "True"
      ]
     },
     "execution_count": 32,
     "metadata": {},
     "output_type": "execute_result"
    }
   ],
   "source": [
    "## Remove stopwords with nltk\n",
    "\n",
    "nltk.download('stopwords')"
   ]
  },
  {
   "cell_type": "code",
   "execution_count": 33,
   "metadata": {
    "collapsed": true
   },
   "outputs": [],
   "source": [
    "stop_words = set(stopwords.words('english'))"
   ]
  },
  {
   "cell_type": "code",
   "execution_count": 34,
   "metadata": {},
   "outputs": [
    {
     "data": {
      "text/plain": [
       "['it', 'an', \"it's\", 'until', 'won', 'a', 'he', 'yourself', 'here', 'that']"
      ]
     },
     "execution_count": 34,
     "metadata": {},
     "output_type": "execute_result"
    }
   ],
   "source": [
    "list(stop_words)[0:10]"
   ]
  },
  {
   "cell_type": "code",
   "execution_count": 35,
   "metadata": {},
   "outputs": [
    {
     "data": {
      "text/plain": [
       "['rt',\n",
       " 'linkedsupplyls',\n",
       " 'looking',\n",
       " 'for',\n",
       " 'a',\n",
       " 'kit',\n",
       " 'or',\n",
       " 'two',\n",
       " 'click',\n",
       " 'on',\n",
       " 'this',\n",
       " 'link',\n",
       " 'tweetukengineer',\n",
       " 'engineering',\n",
       " 'hydraulic']"
      ]
     },
     "execution_count": 35,
     "metadata": {},
     "output_type": "execute_result"
    }
   ],
   "source": [
    "words_in_tweet[0]"
   ]
  },
  {
   "cell_type": "raw",
   "metadata": {},
   "source": [
    "# remove each of the stop words in each tweet\n",
    "\n",
    "for all_words in words_in_tweet:\n",
    "    for a word in all_words:\n",
    "        #remove stop words"
   ]
  },
  {
   "cell_type": "code",
   "execution_count": 39,
   "metadata": {
    "collapsed": true
   },
   "outputs": [],
   "source": [
    "# remove stop words from each tweet list of words\n",
    "tweets_nsw = [[word for word in tweet_words if not word in stop_words]\n",
    "             for tweet_words in words_in_tweet]"
   ]
  },
  {
   "cell_type": "code",
   "execution_count": 40,
   "metadata": {},
   "outputs": [
    {
     "data": {
      "text/plain": [
       "['rt',\n",
       " 'linkedsupplyls',\n",
       " 'looking',\n",
       " 'kit',\n",
       " 'two',\n",
       " 'click',\n",
       " 'link',\n",
       " 'tweetukengineer',\n",
       " 'engineering',\n",
       " 'hydraulic']"
      ]
     },
     "execution_count": 40,
     "metadata": {},
     "output_type": "execute_result"
    }
   ],
   "source": [
    "tweets_nsw[0]"
   ]
  },
  {
   "cell_type": "code",
   "execution_count": 41,
   "metadata": {},
   "outputs": [
    {
     "data": {
      "text/plain": [
       "[('rt', 669),\n",
       " ('plumbing', 326),\n",
       " ('amp', 81),\n",
       " ('kit', 80),\n",
       " ('check', 77),\n",
       " ('linkedsupplyls', 64),\n",
       " ('shop', 53),\n",
       " ('heating', 52),\n",
       " ('magakb', 52),\n",
       " ('ebay', 52),\n",
       " ('new', 50),\n",
       " ('diy', 48),\n",
       " ('plumber', 48),\n",
       " ('need', 48),\n",
       " ('looking', 46)]"
      ]
     },
     "execution_count": 41,
     "metadata": {},
     "output_type": "execute_result"
    }
   ],
   "source": [
    "all_words_nsw = list(itertools.chain(*tweets_nsw))\n",
    "counts_nsw = collections.Counter(all_words_nsw)\n",
    "counts_nsw.most_common(15)"
   ]
  },
  {
   "cell_type": "code",
   "execution_count": 42,
   "metadata": {
    "collapsed": true
   },
   "outputs": [],
   "source": [
    "clean_tweets_nsw = pd.DataFrame(counts_nsw.most_common(15),\n",
    "                               columns = ['words', 'count'])"
   ]
  },
  {
   "cell_type": "code",
   "execution_count": 43,
   "metadata": {},
   "outputs": [
    {
     "data": {
      "image/png": "[encoded data removed]",
      "text/plain": [
       "<matplotlib.figure.Figure at 0x1ad322ebda0>"
      ]
     },
     "metadata": {},
     "output_type": "display_data"
    }
   ],
   "source": [
    "# horizontal bar graph\n",
    "fig, ax = plt.subplots(figsize=(8, 8))\n",
    "\n",
    "# Plot horizontal bar graph\n",
    "clean_tweets_nsw.sort_values(by='count').plot.barh(x='words',\n",
    "                      y='count',\n",
    "                      ax=ax,\n",
    "                      color=\"purple\")\n",
    "\n",
    "ax.set_title(\"Common Words Found in Tweets (Including All Words)\")\n",
    "\n",
    "plt.show()"
   ]
  },
  {
   "cell_type": "code",
   "execution_count": 44,
   "metadata": {
    "collapsed": true
   },
   "outputs": [],
   "source": [
    "# Remove collection words\n",
    "\n",
    "collection_words = ['plumbing', 'rt']\n",
    "\n",
    "tweets_nsw_nc = [[w for w in word if not w in collection_words]\n",
    "                for word in tweets_nsw]"
   ]
  },
  {
   "cell_type": "code",
   "execution_count": 45,
   "metadata": {
    "collapsed": true
   },
   "outputs": [],
   "source": [
    "# Flattern list of words in clean tweets\n",
    "\n",
    "all_words_nsw_nc = list(itertools.chain(*tweets_nsw_nc))\n",
    "\n",
    "# create counter of words in clean tweets\n",
    "counts_nsw_nc = collections.Counter(all_words_nsw_nc)"
   ]
  },
  {
   "cell_type": "code",
   "execution_count": 46,
   "metadata": {},
   "outputs": [
    {
     "data": {
      "text/plain": [
       "[('amp', 81),\n",
       " ('kit', 80),\n",
       " ('check', 77),\n",
       " ('linkedsupplyls', 64),\n",
       " ('shop', 53),\n",
       " ('heating', 52),\n",
       " ('magakb', 52),\n",
       " ('ebay', 52),\n",
       " ('new', 50),\n",
       " ('diy', 48),\n",
       " ('plumber', 48),\n",
       " ('need', 48),\n",
       " ('looking', 46),\n",
       " ('tools', 45),\n",
       " ('plumbanddone', 44)]"
      ]
     },
     "execution_count": 46,
     "metadata": {},
     "output_type": "execute_result"
    }
   ],
   "source": [
    "counts_nsw_nc.most_common(15)"
   ]
  },
  {
   "cell_type": "code",
   "execution_count": 47,
   "metadata": {},
   "outputs": [
    {
     "data": {
      "text/plain": [
       "2225"
      ]
     },
     "execution_count": 47,
     "metadata": {},
     "output_type": "execute_result"
    }
   ],
   "source": [
    "len(counts_nsw_nc)"
   ]
  },
  {
   "cell_type": "code",
   "execution_count": 48,
   "metadata": {},
   "outputs": [
    {
     "data": {
      "text/html": [
       "<div>\n",
       "<style>\n",
       "    .dataframe thead tr:only-child th {\n",
       "        text-align: right;\n",
       "    }\n",
       "\n",
       "    .dataframe thead th {\n",
       "        text-align: left;\n",
       "    }\n",
       "\n",
       "    .dataframe tbody tr th {\n",
       "        vertical-align: top;\n",
       "    }\n",
       "</style>\n",
       "<table border=\"1\" class=\"dataframe\">\n",
       "  <thead>\n",
       "    <tr style=\"text-align: right;\">\n",
       "      <th></th>\n",
       "      <th>words</th>\n",
       "      <th>count</th>\n",
       "    </tr>\n",
       "  </thead>\n",
       "  <tbody>\n",
       "    <tr>\n",
       "      <th>0</th>\n",
       "      <td>amp</td>\n",
       "      <td>81</td>\n",
       "    </tr>\n",
       "    <tr>\n",
       "      <th>1</th>\n",
       "      <td>kit</td>\n",
       "      <td>80</td>\n",
       "    </tr>\n",
       "    <tr>\n",
       "      <th>2</th>\n",
       "      <td>check</td>\n",
       "      <td>77</td>\n",
       "    </tr>\n",
       "    <tr>\n",
       "      <th>3</th>\n",
       "      <td>linkedsupplyls</td>\n",
       "      <td>64</td>\n",
       "    </tr>\n",
       "    <tr>\n",
       "      <th>4</th>\n",
       "      <td>shop</td>\n",
       "      <td>53</td>\n",
       "    </tr>\n",
       "  </tbody>\n",
       "</table>\n",
       "</div>"
      ],
      "text/plain": [
       "            words  count\n",
       "0             amp     81\n",
       "1             kit     80\n",
       "2           check     77\n",
       "3  linkedsupplyls     64\n",
       "4            shop     53"
      ]
     },
     "execution_count": 48,
     "metadata": {},
     "output_type": "execute_result"
    }
   ],
   "source": [
    "clean_tweets_ncw = pd.DataFrame(counts_nsw_nc.most_common(15),\n",
    "                               columns = ['words','count'])\n",
    "\n",
    "clean_tweets_ncw.head()"
   ]
  },
  {
   "cell_type": "code",
   "execution_count": 50,
   "metadata": {},
   "outputs": [
    {
     "data": {
      "image/png": "[encoded data removed]",
      "text/plain": [
       "<matplotlib.figure.Figure at 0x1ad32a4c668>"
      ]
     },
     "metadata": {},
     "output_type": "display_data"
    }
   ],
   "source": [
    "fig, ax = plt.subplots(figsize=(8, 8))\n",
    "\n",
    "# Plot horizontal bar graph\n",
    "clean_tweets_ncw.sort_values(by='count').plot.barh(x='words',\n",
    "                      y='count',\n",
    "                      ax=ax,\n",
    "                      color=\"purple\")\n",
    "\n",
    "ax.set_title(\"Common Words Found in Tweets (Without Stop or Collection Words)\")\n",
    "\n",
    "plt.show()"
   ]
  }
 ],
 "metadata": {
  "kernelspec": {
   "display_name": "Python 3",
   "language": "python",
   "name": "python3"
  },
  "language_info": {
   "codemirror_mode": {
    "name": "ipython",
    "version": 3
   },
   "file_extension": ".py",
   "mimetype": "text/x-python",
   "name": "python",
   "nbconvert_exporter": "python",
   "pygments_lexer": "ipython3",
   "version": "3.7.4"
  }
 },
 "nbformat": 4,
 "nbformat_minor": 2
}
